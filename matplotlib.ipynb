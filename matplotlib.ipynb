{
  "nbformat": 4,
  "nbformat_minor": 0,
  "metadata": {
    "colab": {
      "provenance": [],
      "authorship_tag": "ABX9TyNQ+cHajRL5oy0o1Yseiug5",
      "include_colab_link": true
    },
    "kernelspec": {
      "name": "python3",
      "display_name": "Python 3"
    },
    "language_info": {
      "name": "python"
    }
  },
  "cells": [
    {
      "cell_type": "markdown",
      "metadata": {
        "id": "view-in-github",
        "colab_type": "text"
      },
      "source": [
        "<a href=\"https://colab.research.google.com/github/canon0826/Python_training/blob/main/matplotlib.ipynb\" target=\"_parent\"><img src=\"https://colab.research.google.com/assets/colab-badge.svg\" alt=\"Open In Colab\"/></a>"
      ]
    },
    {
      "cell_type": "code",
      "source": [
        "# スタイル(グラフ全体の色など) dark(暗色) darkgrid(暗色で線有り) など"
      ],
      "metadata": {
        "id": "0DVCuGT4VBTr"
      },
      "execution_count": null,
      "outputs": []
    },
    {
      "cell_type": "code",
      "source": [
        "%matplotlib inline\n",
        "sns.set(style=\"dark\", font=[\"Meiryo\", \"Yu Gothic\", \"Hiragino Maru Gothic Pro\"])\n",
        "\n",
        "plt.plot([0,100,200],[100,0,200])\n",
        "plt.title(\"タイトル\")\n",
        "plt.show()"
      ],
      "metadata": {
        "id": "bnyr7d7zUjso"
      },
      "execution_count": null,
      "outputs": []
    }
  ]
}