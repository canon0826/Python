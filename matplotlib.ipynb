{
  "nbformat": 4,
  "nbformat_minor": 0,
  "metadata": {
    "colab": {
      "provenance": [],
      "authorship_tag": "ABX9TyOkWbfrrJS1EOoMoPl9YNmG",
      "include_colab_link": true
    },
    "kernelspec": {
      "name": "python3",
      "display_name": "Python 3"
    },
    "language_info": {
      "name": "python"
    }
  },
  "cells": [
    {
      "cell_type": "markdown",
      "metadata": {
        "id": "view-in-github",
        "colab_type": "text"
      },
      "source": [
        "<a href=\"https://colab.research.google.com/github/canon0826/Python_training/blob/main/matplotlib.ipynb\" target=\"_parent\"><img src=\"https://colab.research.google.com/assets/colab-badge.svg\" alt=\"Open In Colab\"/></a>"
      ]
    },
    {
      "cell_type": "code",
      "source": [
        "%matplotlib inline\n",
        "import matplotlib.pyplot as plt\n",
        "import seaborn as sns\n",
        "sns.set(font=[\"Meiryo\", \"Yu Gothic\", \"Hiragino Maru Gothic Pro\"])\n",
        "\n",
        "plt.plot([0,100,200],[100,0,200])\n",
        "plt.title(\"タイトル\")\n",
        "plt.show()"
      ],
      "metadata": {
        "id": "Akn66ZZbSN2z"
      },
      "execution_count": null,
      "outputs": []
    }
  ]
}