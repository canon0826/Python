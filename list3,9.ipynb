{
  "nbformat": 4,
  "nbformat_minor": 0,
  "metadata": {
    "colab": {
      "provenance": [],
      "authorship_tag": "ABX9TyOIX4BhqBwIWqqUDiqw58xH",
      "include_colab_link": true
    },
    "kernelspec": {
      "name": "python3",
      "display_name": "Python 3"
    },
    "language_info": {
      "name": "python"
    }
  },
  "cells": [
    {
      "cell_type": "markdown",
      "metadata": {
        "id": "view-in-github",
        "colab_type": "text"
      },
      "source": [
        "<a href=\"https://colab.research.google.com/github/canon0826/Python_training/blob/main/list3%2C9.ipynb\" target=\"_parent\"><img src=\"https://colab.research.google.com/assets/colab-badge.svg\" alt=\"Open In Colab\"/></a>"
      ]
    },
    {
      "cell_type": "code",
      "execution_count": 1,
      "metadata": {
        "colab": {
          "base_uri": "https://localhost:8080/"
        },
        "id": "YhKjodfN6zSd",
        "outputId": "eac001ec-3e40-499c-d94b-5961891c1ee1"
      },
      "outputs": [
        {
          "output_type": "stream",
          "name": "stdout",
          "text": [
            "平均値　= 予想価格    236.0\n",
            "dtype: float64\n",
            "中央値 = 予想価格    240.0\n",
            "dtype: float64\n",
            "最頻値 =    予想価格\n",
            "0   240\n"
          ]
        }
      ],
      "source": [
        "import pandas as pd\n",
        "data = {\n",
        "    \"予想価格\" : [240,250,150,240,300]\n",
        "}\n",
        "df = pd.DataFrame(data)\n",
        "print(\"平均値　=\",df.mean())\n",
        "print(\"中央値 =\",df.median())\n",
        "print(\"最頻値 =\",df.mode())"
      ]
    }
  ]
}