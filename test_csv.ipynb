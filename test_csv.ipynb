{
  "nbformat": 4,
  "nbformat_minor": 0,
  "metadata": {
    "colab": {
      "provenance": [],
      "authorship_tag": "ABX9TyNVSOdSCFuQOOo/54MKekxK",
      "include_colab_link": true
    },
    "kernelspec": {
      "name": "python3",
      "display_name": "Python 3"
    },
    "language_info": {
      "name": "python"
    }
  },
  "cells": [
    {
      "cell_type": "markdown",
      "metadata": {
        "id": "view-in-github",
        "colab_type": "text"
      },
      "source": [
        "<a href=\"https://colab.research.google.com/github/canon0826/Python_training/blob/main/test_csv.ipynb\" target=\"_parent\"><img src=\"https://colab.research.google.com/assets/colab-badge.svg\" alt=\"Open In Colab\"/></a>"
      ]
    },
    {
      "cell_type": "code",
      "source": [
        "名前,国語,数学,英語,番号\n",
        "A太,83,89,76,A001\n",
        "B介,66,93,75,B001\n",
        "C子,100,84,96,B002\n",
        "D郎,60,73,40,A002\n",
        "E美,92,62,84,C001\n",
        "F菜,96,92,94,C002"
      ],
      "metadata": {
        "id": "u2769ZlZu79C"
      },
      "execution_count": null,
      "outputs": []
    }
  ]
}